{
 "metadata": {
  "name": ""
 },
 "nbformat": 3,
 "nbformat_minor": 0,
 "worksheets": [
  {
   "cells": [
    {
     "cell_type": "heading",
     "level": 1,
     "metadata": {},
     "source": [
      "Instalando el sistema basico"
     ]
    },
    {
     "cell_type": "markdown",
     "metadata": {},
     "source": [
      "El primer paso es instalar Python. \n",
      "\n",
      "La guia en [este link](http://docs.python-guide.org/en/latest/) contiene todos los pasos relevantes y es excelente. Deberian leer este documento con varias notas sobre la guia y luego ir alla atravez de los links. Asi mismo les recomiendo como un ejercicio posterior leer la guia por completo.\n",
      "\n",
      " > Les pido que simplemente la sigan al pie de la letras. \n",
      " > Mas adelante explicaremos para que es cada uno de los pasos y su razon de ser.\n",
      "\n",
      "Al finalizar este documento deberian de tener lo siguiente funcionando:\n",
      "- Un editor de texto\n",
      "- python\n",
      "- virtualenv\n",
      "- pip\n",
      "\n",
      "Hoy en dia hay dos versiones de python activas. \n",
      "\n",
      "[Aca](http://docs.python-guide.org/en/latest/starting/which-python/) Hay una excelente explicacion del porque de esto y de cual se deberia de usar para el dia a dia. Dicho eso este tutorial creado para funcionar tanto en python2 como en python3. \n",
      "\n",
      "El otro punto importante son las instrucciones para cada sistema.\n",
      "\n",
      "\n",
      "\n",
      "En [Mac](http://docs.python-guide.org/en/latest/starting/install/osx/)\n",
      "Es verdad que el python que viene con el sistema esta limitado pero para fines de este tutorial el funciona sin problemas.\n",
      "Si tienen interes en trabajar en cosas mas avanzadas les recomiendo que hagan la instalacion externa, es bien sencillo.\n",
      "\n",
      "\n",
      "En [Windows](http://docs.python-guide.org/en/latest/starting/install/win/) \n",
      "Las instrucciones estan excelentes. Se instala sin problemas. Si no sabes hacer la parte de la variable de entorno intenta con este link http://www.computerhope.com/issues/ch000549.htm\n",
      "Lo unico que no mencionan es que hay ciertos paquetes avanzandos que es mejor instalarlos con el .exe. Pero al igual que mac para fines de este tutorial la instalacion basica es suficiente.\n",
      "\n",
      "En [Linux](http://docs.python-guide.org/en/latest/starting/install/linux/)\n",
      "\n",
      "Las instrucciones de Linux estan geniales. "
     ]
    },
    {
     "cell_type": "heading",
     "level": 1,
     "metadata": {},
     "source": [
      "Usando el shell y un editor de text"
     ]
    },
    {
     "cell_type": "markdown",
     "metadata": {},
     "source": [
      "Existe un editor super sencillo de usar y muy bueno para esto se llama Sublime Text es gratis y lo pueden descargar en http://www.sublimetext.com/ aparte de esto hay muchos mas y esto es un mundo aparte. VIM ROCKS!\n",
      "\n",
      "Luego tenemos el shell o la consola. Que es simplemente una forma de ejecutar programas no graficos.\n",
      "\n",
      "En Mac:\n",
      "Tenemos Terminal.app que es el default y www.iterm2.com \n",
      "\n",
      "En Windows:\n",
      "Tenemos cmd.exe y powershell\n",
      "\n",
      "En Linux:\n",
      "Tenemos xterm, gnome-terminal,etc.\n",
      "\n",
      "Todo sistema trae una si no sabes donde esta la tuya preguntale a uno de los coaches."
     ]
    },
    {
     "cell_type": "heading",
     "level": 1,
     "metadata": {},
     "source": [
      "Probando que este todo bien"
     ]
    },
    {
     "cell_type": "markdown",
     "metadata": {},
     "source": [
      "Una vez instalado python, virtualenv y todo lo demas deberias poder correr los siguientes commandos en tu terminal.\n",
      "\n",
      "    > Nota: el ! no es necesario desde el terminal. eso solo se necesita dentro de ipython el software que estoy usando para la presentacion"
     ]
    },
    {
     "cell_type": "code",
     "collapsed": false,
     "input": [
      "!pip install virtualenv"
     ],
     "language": "python",
     "metadata": {},
     "outputs": [
      {
       "output_type": "stream",
       "stream": "stdout",
       "text": [
        "Requirement already satisfied (use --upgrade to upgrade): virtualenv in ./venv/lib/python2.7/site-packages\r\n",
        "Cleaning up...\r\n"
       ]
      }
     ],
     "prompt_number": 14
    },
    {
     "cell_type": "code",
     "collapsed": false,
     "input": [
      "!mkdir -p ~/apps/py036intro\n",
      "!cd ~/apps/py036intro"
     ],
     "language": "python",
     "metadata": {},
     "outputs": [],
     "prompt_number": 10
    },
    {
     "cell_type": "code",
     "collapsed": false,
     "input": [
      "!virtualenv test"
     ],
     "language": "python",
     "metadata": {},
     "outputs": [
      {
       "output_type": "stream",
       "stream": "stdout",
       "text": [
        "Using real prefix '/System/Library/Frameworks/Python.framework/Versions/2.7'\r\n",
        "New python executable in test/bin/python\r\n"
       ]
      },
      {
       "output_type": "stream",
       "stream": "stdout",
       "text": [
        "Installing setuptools, pip..."
       ]
      },
      {
       "output_type": "stream",
       "stream": "stdout",
       "text": [
        "done.\r\n"
       ]
      }
     ],
     "prompt_number": 11
    },
    {
     "cell_type": "code",
     "collapsed": false,
     "input": [
      "!source test/bin/activate"
     ],
     "language": "python",
     "metadata": {},
     "outputs": [],
     "prompt_number": 12
    },
    {
     "cell_type": "code",
     "collapsed": false,
     "input": [
      "!which python"
     ],
     "language": "python",
     "metadata": {},
     "outputs": [
      {
       "output_type": "stream",
       "stream": "stdout",
       "text": [
        "/Users/elpargo/apps/py036intro/venv/bin/python\r\n"
       ]
      }
     ],
     "prompt_number": 13
    },
    {
     "cell_type": "raw",
     "metadata": {},
     "source": [
      "el shell deberian de responder con algo como /Users/elpargo/apps/py036intro/test/bin/python "
     ]
    },
    {
     "cell_type": "raw",
     "metadata": {},
     "source": [
      "Y con esto estamos listos para la proxima etapa"
     ]
    }
   ],
   "metadata": {}
  }
 ]
}