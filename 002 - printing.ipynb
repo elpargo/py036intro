{
 "metadata": {
  "name": ""
 },
 "nbformat": 3,
 "nbformat_minor": 0,
 "worksheets": [
  {
   "cells": [
    {
     "cell_type": "markdown",
     "metadata": {},
     "source": [
      "En python hay varias formas de darle formato a los strings.\n",
      "\n",
      "Tenemos la concatenacion como vimos antes:\n",
      "\n",
      "    print a+b\n",
      "\n",
      "Tenemos el operador % que no lo vamos a ver mucho ya que esta un poco desfasado pero funciona similar:\n",
      "\n",
      "    print \"%s\" % a\n",
      "    print \"%s %i\" % (a,b)\n",
      "\n",
      "y Tenemos `.format()` que es la forma mas moderna y que veremos a continuacion.\n"
     ]
    },
    {
     "cell_type": "markdown",
     "metadata": {},
     "source": [
      "## string.format()\n",
      "\n",
      "`.format()` es un metodo de la clase string. En espa\u00f1ol es una funcion que opera sobre los objetos de tipo string. Es decir todo aquello declarado con un '' o \"\" la documentacion completa esta aca http://docs.python.org/2/library/string.html#format-examples y veremos unos ejemplos simples acontinuacion"
     ]
    },
    {
     "cell_type": "code",
     "collapsed": false,
     "input": [
      "print '{0}, {1}, {2}'.format('a', 'b', 'c')\n",
      "print '{}, {}, {}'.format('a', 'b', 'c')"
     ],
     "language": "python",
     "metadata": {},
     "outputs": [
      {
       "output_type": "stream",
       "stream": "stdout",
       "text": [
        "a, b, c\n",
        "a, b, c\n"
       ]
      }
     ],
     "prompt_number": 4
    },
    {
     "cell_type": "code",
     "collapsed": false,
     "input": [
      "a='jorge'\n",
      "b='laura'\n",
      "c='wendy'\n",
      "'Hola! {}, {} y {}.'.format(a,b,c)"
     ],
     "language": "python",
     "metadata": {},
     "outputs": [
      {
       "metadata": {},
       "output_type": "pyout",
       "prompt_number": 5,
       "text": [
        "'Hola! jorge, laura y wendy.'"
       ]
      }
     ],
     "prompt_number": 5
    },
    {
     "cell_type": "markdown",
     "metadata": {},
     "source": [
      "## Pero porque surge esto?\n",
      "\n",
      "Porque atravez de los a\u00f1os los programadores se dieron cuenta que las formas anteriores eran muy complicadas y generaban potenciales errores. El resultado del codigo de aca abajo es el mismo que del bloque anterior pero es varias veces mas dificil de seguir."
     ]
    },
    {
     "cell_type": "code",
     "collapsed": false,
     "input": [
      "'Hola! '+a+', '+b+' y '+c+'.'"
     ],
     "language": "python",
     "metadata": {},
     "outputs": [
      {
       "metadata": {},
       "output_type": "pyout",
       "prompt_number": 7,
       "text": [
        "'Hola! jorge, laura y wendy.'"
       ]
      }
     ],
     "prompt_number": 7
    },
    {
     "cell_type": "code",
     "collapsed": false,
     "input": [
      "'Hola! ' + a + ', ' + b + ' y ' + c + '.'"
     ],
     "language": "python",
     "metadata": {},
     "outputs": [
      {
       "metadata": {},
       "output_type": "pyout",
       "prompt_number": 8,
       "text": [
        "'Hola! jorge, laura y wendy.'"
       ]
      }
     ],
     "prompt_number": 8
    },
    {
     "cell_type": "markdown",
     "metadata": {},
     "source": [
      "Por ultimo `.format()` me permite aplicar uno de los conceptos mas importantes de programacion, la separacion en capas. \n",
      "\n",
      "Es decir puede tener una variable `template` que tenga el contenido y usarla cada vez que quiera"
     ]
    },
    {
     "cell_type": "code",
     "collapsed": false,
     "input": [
      "template = 'Hola! {}, {} y {}.'\n",
      "template.format(a,b,c)"
     ],
     "language": "python",
     "metadata": {},
     "outputs": [
      {
       "metadata": {},
       "output_type": "pyout",
       "prompt_number": 11,
       "text": [
        "'Hola! jorge, laura y wendy.'"
       ]
      }
     ],
     "prompt_number": 11
    },
    {
     "cell_type": "heading",
     "level": 3,
     "metadata": {},
     "source": [
      "Un error de novato. Recuerden que cada simbolo es importante. Que hay mal en este codigo?"
     ]
    },
    {
     "cell_type": "code",
     "collapsed": false,
     "input": [
      "print \"Hola\" { }, { } y { }.(format a,b,c)"
     ],
     "language": "python",
     "metadata": {},
     "outputs": [
      {
       "ename": "SyntaxError",
       "evalue": "invalid syntax (<ipython-input-14-37b88ba9cfad>, line 1)",
       "output_type": "pyerr",
       "traceback": [
        "\u001b[0;36m  File \u001b[0;32m\"<ipython-input-14-37b88ba9cfad>\"\u001b[0;36m, line \u001b[0;32m1\u001b[0m\n\u001b[0;31m    print \"Hola\" { }, { } y { }.(format a,b,c)\u001b[0m\n\u001b[0m                 ^\u001b[0m\n\u001b[0;31mSyntaxError\u001b[0m\u001b[0;31m:\u001b[0m invalid syntax\n"
       ]
      }
     ],
     "prompt_number": 14
    },
    {
     "cell_type": "heading",
     "level": 3,
     "metadata": {},
     "source": [
      "Pero recuerdan los numeros {1}? para que eran? "
     ]
    },
    {
     "cell_type": "code",
     "collapsed": false,
     "input": [
      "a='jorge'\n",
      "b='laura'\n",
      "c='wendy'\n",
      "print \"Hola {1}, {2} y {0}\".format(a,b,c)"
     ],
     "language": "python",
     "metadata": {},
     "outputs": [
      {
       "output_type": "stream",
       "stream": "stdout",
       "text": [
        "Hola laura, wendy y jorge\n"
       ]
      }
     ],
     "prompt_number": 18
    },
    {
     "cell_type": "code",
     "collapsed": false,
     "input": [
      "'{0}{1}{0}'.format('abra', 'cad')   # arguments' indices can be repeated\n",
      "'abracadabra'"
     ],
     "language": "python",
     "metadata": {},
     "outputs": [
      {
       "metadata": {},
       "output_type": "pyout",
       "prompt_number": 19,
       "text": [
        "'abracadabra'"
       ]
      }
     ],
     "prompt_number": 19
    },
    {
     "cell_type": "code",
     "collapsed": false,
     "input": [
      "'Coordinates: {latitude}, {longitude}'.format(latitude='37.24N', longitude='-115.81W')"
     ],
     "language": "python",
     "metadata": {},
     "outputs": [
      {
       "metadata": {},
       "output_type": "pyout",
       "prompt_number": 20,
       "text": [
        "'Coordinates: 37.24N, -115.81W'"
       ]
      }
     ],
     "prompt_number": 20
    },
    {
     "cell_type": "markdown",
     "metadata": {},
     "source": [
      "Esta es una introduccion basica a todo lo que se puede hacer con strings. Recuerden aca http://docs.python.org/2/library/string.html#format-examples hay muchos ejemplos mas."
     ]
    },
    {
     "cell_type": "code",
     "collapsed": false,
     "input": [],
     "language": "python",
     "metadata": {},
     "outputs": []
    }
   ],
   "metadata": {}
  }
 ]
}