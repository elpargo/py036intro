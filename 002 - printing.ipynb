{
 "metadata": {
  "name": ""
 },
 "nbformat": 3,
 "nbformat_minor": 0,
 "worksheets": [
  {
   "cells": [
    {
     "cell_type": "code",
     "collapsed": false,
     "input": [
      "'{0}, {1}, {2}'.format('a', 'b', 'c')\n",
      "'{}, {}, {}'.format('a', 'b', 'c')"
     ],
     "language": "python",
     "metadata": {},
     "outputs": []
    },
    {
     "cell_type": "code",
     "collapsed": false,
     "input": [
      "\n",
      "a='jorge'\n",
      "b='laura'\n",
      "c='wendy'\n",
      "'Hola! {}, {} y {}.'.format(a,b,c)"
     ],
     "language": "python",
     "metadata": {},
     "outputs": []
    },
    {
     "cell_type": "code",
     "collapsed": false,
     "input": [
      "'Hola! '+a+', '+b+' y '+c+'.'"
     ],
     "language": "python",
     "metadata": {},
     "outputs": []
    },
    {
     "cell_type": "code",
     "collapsed": false,
     "input": [
      "'Hola! ' + a + ', ' + b + ' y ' + c + '.'"
     ],
     "language": "python",
     "metadata": {},
     "outputs": []
    },
    {
     "cell_type": "code",
     "collapsed": false,
     "input": [
      "template = 'Hola! {}, {} y {}.'\n",
      "template.format(a,b,c)"
     ],
     "language": "python",
     "metadata": {},
     "outputs": []
    },
    {
     "cell_type": "code",
     "collapsed": false,
     "input": [
      "template = 'Hola! {}, {} y {}.'\n",
      "template.format(a,b,c)"
     ],
     "language": "python",
     "metadata": {},
     "outputs": []
    },
    {
     "cell_type": "code",
     "collapsed": false,
     "input": [
      "print \"Hola\" { }, { } y { }.(format a,b,c)"
     ],
     "language": "python",
     "metadata": {},
     "outputs": []
    },
    {
     "cell_type": "code",
     "collapsed": false,
     "input": [
      "a='jorge'\n",
      "b='laura'\n",
      "c='wendy'\n",
      "print \"Hola {1}, {2} y {0}\".format(a,b,c)"
     ],
     "language": "python",
     "metadata": {},
     "outputs": []
    },
    {
     "cell_type": "code",
     "collapsed": false,
     "input": [
      "'{0}{1}{0}'.format('abra', 'cad')   # arguments' indices can be repeated\n",
      "'abracadabra'"
     ],
     "language": "python",
     "metadata": {},
     "outputs": []
    },
    {
     "cell_type": "code",
     "collapsed": false,
     "input": [
      "'Coordinates: {latitude}, {longitude}'.format(latitude='37.24N', longitude='-115.81W')"
     ],
     "language": "python",
     "metadata": {},
     "outputs": []
    }
   ],
   "metadata": {}
  }
 ]
}