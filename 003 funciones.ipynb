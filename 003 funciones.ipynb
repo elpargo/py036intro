{
 "metadata": {
  "name": ""
 },
 "nbformat": 3,
 "nbformat_minor": 0,
 "worksheets": [
  {
   "cells": [
    {
     "cell_type": "markdown",
     "metadata": {},
     "source": [
      "# So que es una funcion?\n",
      "\n",
      "La definicion mas simple es un bloque reusable de codigo. Las funciones por lo general tienen zero o mas parametros (data entrante) y retornan zero o mas valores (data saliente).\n",
      "\n",
      "Por ejemplo podemos tener una funciones como:\n",
      "\n",
      "    * Calcular la temperatura\n",
      "    * transformar de un tipo de dato a otro (Celsius a fahrenheit)\n",
      "    * Bajar un archivo de internet\n",
      "    * Guardar a disco duro\n",
      "    * etc, etc, etc.\n",
      "    \n",
      "Las funciones junto con las clases son los dos elementos de reuso de codigo mas importantes. Veremos las clases mas adelante.\n",
      "\n",
      "# Y que es un modulo?\n",
      "\n",
      "El ultimo concepto para entender este capitulo que debemos saber es un paquete/module. Este no es mas que un conjunto de funciones y clases agrupadas para ayudarnos. Hay paquetes estandares que vienen con python (estos se conocen como [el standard library](http://docs.python.org/2/library/)) y hay otros que se instalan aparte y estan agrupados alrededor de [pypi](https://pypi.python.org/pypi). Algunos ejemplos de paquetes del standard library y son muy utiles:\n",
      "\n",
      "    * datetime\n",
      "    * calendar\n",
      "    * sets\n",
      "    * math\n",
      "    * os\n",
      "    * zipfile\n",
      "    * sqlite\n",
      "    * sha & md5\n",
      "    * argparse\n",
      "    * subprocess\n",
      "    * json\n",
      "    * xml\n",
      "    * turtle (super cool, un dia jugamos con esto)\n",
      "    * re\n",
      "    * etc."
     ]
    },
    {
     "cell_type": "heading",
     "level": 4,
     "metadata": {},
     "source": [
      "Usando una funcion ya existente"
     ]
    },
    {
     "cell_type": "code",
     "collapsed": false,
     "input": [
      "import webbrowser\n",
      "webbrowser.open(\"https://www.google.com.do/?#q=coworking.do\")"
     ],
     "language": "python",
     "metadata": {},
     "outputs": [
      {
       "metadata": {},
       "output_type": "pyout",
       "prompt_number": 3,
       "text": [
        "True"
       ]
      }
     ],
     "prompt_number": 3
    },
    {
     "cell_type": "heading",
     "level": 4,
     "metadata": {},
     "source": [
      "Creando una funcion propia"
     ]
    },
    {
     "cell_type": "code",
     "collapsed": false,
     "input": [
      "import webbrowser\n",
      "\n",
      "def google(term):\n",
      "    webbrowser.open(\"https://www.google.com.do/?#q={}\".format(term))"
     ],
     "language": "python",
     "metadata": {},
     "outputs": [],
     "prompt_number": 2
    },
    {
     "cell_type": "heading",
     "level": 4,
     "metadata": {},
     "source": [
      "usando nuestra funcion"
     ]
    },
    {
     "cell_type": "code",
     "collapsed": false,
     "input": [
      "google(\"python\")"
     ],
     "language": "python",
     "metadata": {},
     "outputs": [],
     "prompt_number": 3
    },
    {
     "cell_type": "markdown",
     "metadata": {},
     "source": [
      "#### creando una forma mas avanzada\n",
      "\n",
      "Dos notas:\n",
      "\n",
      "    * estamos reescribiendo la funcion google\n",
      "    * term=None que es eso?"
     ]
    },
    {
     "cell_type": "code",
     "collapsed": false,
     "input": [
      "def google(term=None):\n",
      "    if term:\n",
      "        webbrowser.open(\"https://www.google.com.do/?#q={}\".format(term))\n",
      "    else:\n",
      "        webbrowser.open(\"https://www.google.com.do/\")\n"
     ],
     "language": "python",
     "metadata": {},
     "outputs": [],
     "prompt_number": 4
    },
    {
     "cell_type": "heading",
     "level": 4,
     "metadata": {},
     "source": [
      "Usando nuestra nueva funcion"
     ]
    },
    {
     "cell_type": "code",
     "collapsed": false,
     "input": [
      "google()"
     ],
     "language": "python",
     "metadata": {},
     "outputs": [],
     "prompt_number": 5
    },
    {
     "cell_type": "code",
     "collapsed": false,
     "input": [
      "google(\"python\")"
     ],
     "language": "python",
     "metadata": {},
     "outputs": []
    }
   ],
   "metadata": {}
  }
 ]
}