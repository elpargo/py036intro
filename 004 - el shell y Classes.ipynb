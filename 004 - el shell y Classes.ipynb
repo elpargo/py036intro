{
 "metadata": {
  "name": ""
 },
 "nbformat": 3,
 "nbformat_minor": 0,
 "worksheets": [
  {
   "cells": [
    {
     "cell_type": "markdown",
     "metadata": {},
     "source": [
      "## Abrimos nuestro editor\n",
      "y podemos escribir algo de codigo, luego vamos al shell y lo ejecutamos."
     ]
    },
    {
     "cell_type": "code",
     "collapsed": false,
     "input": [
      "!ls"
     ],
     "language": "python",
     "metadata": {},
     "outputs": []
    },
    {
     "cell_type": "raw",
     "metadata": {},
     "source": [
      "python <path_to_filename>"
     ]
    },
    {
     "cell_type": "markdown",
     "metadata": {},
     "source": [
      "Aca algunos ejemplos sencillos del module turtle."
     ]
    },
    {
     "cell_type": "code",
     "collapsed": false,
     "input": [
      "%pfile turtle0.py"
     ],
     "language": "python",
     "metadata": {},
     "outputs": [
      {
       "output_type": "stream",
       "stream": "stdout",
       "text": [
        "Object `turtle0.py` not found.\n"
       ]
      }
     ],
     "prompt_number": 49
    },
    {
     "cell_type": "code",
     "collapsed": false,
     "input": [
      "%pfile turtle1.py"
     ],
     "language": "python",
     "metadata": {},
     "outputs": [
      {
       "output_type": "stream",
       "stream": "stdout",
       "text": [
        "Object `turtle1.py` not found.\n"
       ]
      }
     ],
     "prompt_number": 50
    },
    {
     "cell_type": "code",
     "collapsed": false,
     "input": [
      "%pfile turtle2.py\n",
      "\n"
     ],
     "language": "python",
     "metadata": {},
     "outputs": [
      {
       "output_type": "stream",
       "stream": "stdout",
       "text": [
        "Object `turtle2.py` not found.\n"
       ]
      }
     ],
     "prompt_number": 51
    },
    {
     "cell_type": "raw",
     "metadata": {},
     "source": [
      "ok vamos a correr estos ejemplos para verlos en accion"
     ]
    },
    {
     "cell_type": "code",
     "collapsed": false,
     "input": [
      "!sublime `pwd`"
     ],
     "language": "python",
     "metadata": {},
     "outputs": []
    },
    {
     "cell_type": "markdown",
     "metadata": {},
     "source": [
      "### Quieren mas ? \n",
      "\n",
      "Hay miles de cosas que se pueden hacer con esto. Horas y Horas perdidas :p \n",
      "\n",
      "Les recomiendo este repositorio que esta lleno de ejemplos similares https://code.google.com/p/python-turtle-demo/ y esta aplicacion que es excelente para ense\u00f1arle a los ni\u00f1os a jugar con el module http://pythonturtle.org/ "
     ]
    }
   ],
   "metadata": {}
  }
 ]
}