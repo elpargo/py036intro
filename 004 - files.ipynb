{
 "metadata": {
  "name": ""
 },
 "nbformat": 3,
 "nbformat_minor": 0,
 "worksheets": [
  {
   "cells": [
    {
     "cell_type": "code",
     "collapsed": false,
     "input": [
      "print os.path.basename(path)\n",
      "print os.getcwd()\n",
      "print os.path.join(\"/hola/\",\"luz/\")"
     ],
     "language": "python",
     "metadata": {},
     "outputs": []
    }
   ],
   "metadata": {}
  }
 ]
}