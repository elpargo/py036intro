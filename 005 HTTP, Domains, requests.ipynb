{
 "metadata": {
  "name": ""
 },
 "nbformat": 3,
 "nbformat_minor": 0,
 "worksheets": [
  {
   "cells": [
    {
     "cell_type": "code",
     "collapsed": false,
     "input": [
      "#!pip uninstall requests --yes\n",
      "!pip install requests"
     ],
     "language": "python",
     "metadata": {},
     "outputs": []
    },
    {
     "cell_type": "markdown",
     "metadata": {},
     "source": [
      "URI ? Uniform Resource Idenfifier\n",
      "\n",
      "URL ? Uniform Resource Location"
     ]
    },
    {
     "cell_type": "code",
     "collapsed": false,
     "input": [
      "import urlparse\n",
      "#scheme://domain:port/path?query_string#fragment_id\n",
      "urls = [\n",
      "'http://amazon.com',\n",
      "'codemera.com',\n",
      "'http://python.org',\n",
      "'aws.amazon.com',\n",
      "'samanta.me',\n",
      "'intec.edu.do',\n",
      "'coworking.do',\n",
      "'www.ice.co.cr',\n",
      "'mirc.co.uk',\n",
      "'python.do',\n",
      "'https://www.google.com.do/?q=python',\n",
      "'git://git@github.com:elpargo/py036intro.git',\n",
      "ftp\n",
      "'http://127.0.0.1:8888/75662154-86e6-4bcc-8e90-ca7f906acfcc#',\n",
      "fragmets\n",
      "]\n",
      "\n",
      "for url in urls:\n",
      "    print urlparse.urlsplit(url)\n",
      "    "
     ],
     "language": "python",
     "metadata": {},
     "outputs": []
    },
    {
     "cell_type": "code",
     "collapsed": false,
     "input": [
      "import requests\n",
      "\n",
      "#r = requests.get(\"google.com\")\n",
      "r = requests.get(\"http://coworking.do\")\n",
      "print r.status_code\n",
      "print \"-\"*30\n",
      "print r.headers\n",
      "print r.headers['content-type']\n",
      "print \"-\"*30\n",
      "print r.text\n",
      "print \"-\"*30"
     ],
     "language": "python",
     "metadata": {},
     "outputs": []
    }
   ],
   "metadata": {}
  }
 ]
}