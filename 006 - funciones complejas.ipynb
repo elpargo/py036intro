{
 "metadata": {
  "name": ""
 },
 "nbformat": 3,
 "nbformat_minor": 0,
 "worksheets": [
  {
   "cells": [
    {
     "cell_type": "markdown",
     "metadata": {},
     "source": [
      "# Unas funciones un poco mas avanzadas\n",
      "\n",
      "Vamos a hacer tres funciones:\n",
      "\n",
      " * Una que me genere nombres de archivos\n",
      " * otra que me baje archivos de internet y\n",
      " * otra que me muestre esos archivos\n",
      " \n",
      "utilizando todo lo que hemos aprendido en los notebooks anteriores."
     ]
    },
    {
     "cell_type": "code",
     "collapsed": false,
     "input": [
      "import urlparse\n",
      "import os\n",
      "\n",
      "DOWNLOADS = os.getcwd()\n",
      "\n",
      "def filename_from_URI(URI):\n",
      "    path = urlparse.urlsplit(URI).path\n",
      "    filename = os.path.join(DOWNLOADS,os.path.basename(path))\n",
      "    return filename"
     ],
     "language": "python",
     "metadata": {},
     "outputs": []
    },
    {
     "cell_type": "code",
     "collapsed": false,
     "input": [
      "URL = \"http://www.pyladies.com/assets/images/pyladies_logo.png\"\n",
      "local_name = filename_from_URI(URL)\n",
      "print local_name"
     ],
     "language": "python",
     "metadata": {},
     "outputs": []
    },
    {
     "cell_type": "heading",
     "level": 3,
     "metadata": {},
     "source": [
      "Vamos a ver eso por partes"
     ]
    },
    {
     "cell_type": "code",
     "collapsed": false,
     "input": [
      "path = urlparse.urlsplit(URL).path\n",
      "print path\n",
      "print os.path.basename(path)\n",
      "print os.getcwd()\n",
      "print os.path.join(DOWNLOADS,os.path.basename(path))"
     ],
     "language": "python",
     "metadata": {},
     "outputs": []
    },
    {
     "cell_type": "heading",
     "level": 3,
     "metadata": {},
     "source": [
      "Ahora una funcion para bajar imagenes de un URL"
     ]
    },
    {
     "cell_type": "code",
     "collapsed": false,
     "input": [
      "#os.remove(local_name)"
     ],
     "language": "python",
     "metadata": {},
     "outputs": []
    },
    {
     "cell_type": "code",
     "collapsed": false,
     "input": [
      "import os\n",
      "import requests\n",
      "\n",
      "def download_image(URI,overwrite=False):\n",
      "    \"\"\"\n",
      "    This funcion takes a URI and a flag to overwrite the local filename \n",
      "    then returns an HTTP Error Code and the full path to the local filename\n",
      "    \"\"\"\n",
      "    \n",
      "    filename = filename_from_URI(URI)\n",
      "    if not overwrite:\n",
      "        if os.path.exists(filename):\n",
      "            print(\"{} exists aborting\".format(filename))\n",
      "            return 200, filename\n",
      "    print(\"Downloading {}\".format(filename))\n",
      "\n",
      "    r = requests.get(URI)\n",
      "    if r.status_code == 200:\n",
      "        with open(filename, 'wb') as f:\n",
      "            for chunk in r.iter_content(1024):\n",
      "                f.write(chunk)\n",
      "    return r.status_code,filename"
     ],
     "language": "python",
     "metadata": {},
     "outputs": []
    },
    {
     "cell_type": "code",
     "collapsed": false,
     "input": [
      "download_image(\"http://www.pyladies.com/assets/images/pyladies_logoBLEH.png\")"
     ],
     "language": "python",
     "metadata": {},
     "outputs": []
    },
    {
     "cell_type": "code",
     "collapsed": false,
     "input": [
      "download_image(\"http://www.pyladies.com/assets/images/pyladies_logo.png\")"
     ],
     "language": "python",
     "metadata": {},
     "outputs": []
    },
    {
     "cell_type": "code",
     "collapsed": false,
     "input": [
      "os.path.exists(local_name)"
     ],
     "language": "python",
     "metadata": {},
     "outputs": []
    },
    {
     "cell_type": "code",
     "collapsed": false,
     "input": [
      "#Don't try this at python it's ipython gooodness\n",
      "from IPython.display import Image"
     ],
     "language": "python",
     "metadata": {},
     "outputs": []
    },
    {
     "cell_type": "code",
     "collapsed": false,
     "input": [
      "Image(local_name)"
     ],
     "language": "python",
     "metadata": {},
     "outputs": []
    },
    {
     "cell_type": "code",
     "collapsed": false,
     "input": [
      "Image(url=\"http://www.pyladies.com/assets/images/pyladies_logo.png\")"
     ],
     "language": "python",
     "metadata": {},
     "outputs": []
    },
    {
     "cell_type": "code",
     "collapsed": false,
     "input": [],
     "language": "python",
     "metadata": {},
     "outputs": []
    }
   ],
   "metadata": {}
  }
 ]
}