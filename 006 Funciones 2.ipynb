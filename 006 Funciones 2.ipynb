{
 "metadata": {
  "name": ""
 },
 "nbformat": 3,
 "nbformat_minor": 0,
 "worksheets": [
  {
   "cells": [
    {
     "cell_type": "code",
     "collapsed": false,
     "input": [
      "import urlparse\n",
      "import os\n",
      "\n",
      "DOWNLOADS = os.getcwd()\n",
      "\n",
      "def filename_from_URI(URI):\n",
      "    path = urlparse.urlsplit(URI).path\n",
      "    filename = os.path.join(DOWNLOADS,os.path.basename(path))\n",
      "    return filename"
     ],
     "language": "python",
     "metadata": {},
     "outputs": [],
     "prompt_number": 28
    },
    {
     "cell_type": "code",
     "collapsed": false,
     "input": [
      "URL = \"http://www.pyladies.com/assets/images/pyladies_logo.png\"\n",
      "local_name = filename_from_URI(URL)\n",
      "print local_name"
     ],
     "language": "python",
     "metadata": {},
     "outputs": [
      {
       "output_type": "stream",
       "stream": "stdout",
       "text": [
        "/Users/elpargo/apps/py036intro/pyladies_logo.png\n"
       ]
      }
     ],
     "prompt_number": 32
    },
    {
     "cell_type": "code",
     "collapsed": false,
     "input": [
      "path = urlparse.urlsplit(URL).path\n",
      "print os.path.basename(path)\n",
      "print os.getcwd()\n",
      "print os.path.join(\"/hola/\",\"luz/\")\n",
      "print \"{}/{}\".format(\"/hola/\",\"luz/\")"
     ],
     "language": "python",
     "metadata": {},
     "outputs": [
      {
       "output_type": "stream",
       "stream": "stdout",
       "text": [
        "pyladies_logo.png\n",
        "/Users/elpargo/apps/py036intro\n",
        "/hola/luz/\n",
        "/hola//luz/\n"
       ]
      }
     ],
     "prompt_number": 56
    },
    {
     "cell_type": "code",
     "collapsed": false,
     "input": [
      "import os\n",
      "import requests\n",
      "\n",
      "def download_image(URI,overwrite=False):\n",
      "    filename = filename_from_URI(URI)\n",
      "    if not overwrite:\n",
      "        if os.path.exists(filename):\n",
      "            print(\"{} exists aborting\".format(filename))\n",
      "            return 200, filename\n",
      "    print(\"Downloading {}\".format(filename))\n",
      "\n",
      "    r = requests.get(URI)\n",
      "    if r.status_code == 200:\n",
      "        #TODO figure out if we can chunk this into PILLOW to have one pass thru the file\n",
      "        with open(filename, 'wb') as f:\n",
      "            for chunk in r.iter_content(1024):\n",
      "                f.write(chunk)\n",
      "    return r.status_code,filename"
     ],
     "language": "python",
     "metadata": {},
     "outputs": []
    },
    {
     "cell_type": "code",
     "collapsed": false,
     "input": [],
     "language": "python",
     "metadata": {},
     "outputs": []
    },
    {
     "cell_type": "code",
     "collapsed": false,
     "input": [
      "os.remove(local_name)\n",
      "#os.path.exists(local_name)"
     ],
     "language": "python",
     "metadata": {},
     "outputs": []
    },
    {
     "cell_type": "code",
     "collapsed": false,
     "input": [],
     "language": "python",
     "metadata": {},
     "outputs": []
    },
    {
     "cell_type": "code",
     "collapsed": false,
     "input": [
      "download_image(\"http://www.pyladies.com/assets/images/pyladies_logo.png\")"
     ],
     "language": "python",
     "metadata": {},
     "outputs": []
    },
    {
     "cell_type": "code",
     "collapsed": false,
     "input": [
      "os.path.exists(local_name)"
     ],
     "language": "python",
     "metadata": {},
     "outputs": []
    },
    {
     "cell_type": "code",
     "collapsed": false,
     "input": [
      "open file and display img"
     ],
     "language": "python",
     "metadata": {},
     "outputs": []
    }
   ],
   "metadata": {}
  }
 ]
}