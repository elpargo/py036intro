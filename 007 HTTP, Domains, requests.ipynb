{
 "metadata": {
  "name": ""
 },
 "nbformat": 3,
 "nbformat_minor": 0,
 "worksheets": [
  {
   "cells": [
    {
     "cell_type": "markdown",
     "metadata": {},
     "source": [
      "So que es un URI y un URL?\n",
      "\n",
      "Las definiciones formales son:\n",
      "URI Uniform Resource Idenfifier, es decir un esquema que se creo para identificar cualquier cosa. Mas info [aca](http://en.wikipedia.org/wiki/Uniform_resource_identifier)\n",
      "\n",
      "Un URL (Uniform Resource Location) es algo mas conocido. Pero talvez muchos no saben todos los detalles y partes que este tiene.\n",
      "\n",
      "scheme://domain:port/path?query_string#fragment_id\n",
      "\n",
      "Como un url es algo relativamente complejo y que todos usamos pues hay un modulo que se encarga de procesarlos."
     ]
    },
    {
     "cell_type": "code",
     "collapsed": false,
     "input": [
      "import urlparse\n",
      "\n",
      "urls = [\n",
      "'http://amazon.com',\n",
      "'codemera.com',\n",
      "'http://python.org',\n",
      "'aws.amazon.com',\n",
      "'samanta.me',\n",
      "'intec.edu.do',\n",
      "'coworking.do',\n",
      "'www.ice.co.cr',\n",
      "'mirc.co.uk',\n",
      "'python.do',\n",
      "'https://www.google.com.do/?q=python',\n",
      "'http://codemera.com/team',\n",
      "'ssh://git@github.com:elpargo/py036intro.git',\n",
      "'http://127.0.0.1:8888/75662154-86e6-4bcc-8e90-ca7f906acfcc#',\n",
      "'https://mail.google.com/mail/u/0/#inbox',\n",
      "]\n",
      "\n",
      "for url in urls:\n",
      "    print urlparse.urlsplit(url)\n",
      "    "
     ],
     "language": "python",
     "metadata": {},
     "outputs": []
    },
    {
     "cell_type": "markdown",
     "metadata": {},
     "source": [
      "## HTTP: Hyper Text Transfer Protocol\n",
      "\n",
      "So que es esto? esto es la base del internet. Sin entrar en mucho detalle es un protocolo es decir una serie de pasos a seguir para obtener algo. Ese algo es Hyper Text. Lo cual nos lleva a la siguiente pregunta....\n",
      "\n",
      "## HTML: Hyper Text Markup Language\n",
      "\n",
      "So que es esto? Bueno HTML Es la forma mas comun de Hyper Text. Es decir texto que contiene enlaces (links) a otros textos. Es decir el internet esta hecho de HTML.\n",
      "\n",
      "    <html>\n",
      "    <head>\n",
      "        <title>Hello I'm a webpage</title>\n",
      "    </head\n",
      "    </html>\n",
      "    \n",
      "Pero suficiente teoria vamos a ver algo de codigo.\n"
     ]
    },
    {
     "cell_type": "code",
     "collapsed": false,
     "input": [
      "#!pip uninstall requests --yes\n",
      "!pip install requests"
     ],
     "language": "python",
     "metadata": {},
     "outputs": []
    },
    {
     "cell_type": "raw",
     "metadata": {},
     "source": [
      "--A ustedes deberia de salirles algo asi--\n",
      "\n",
      "Downloading/unpacking requests\n",
      "  Downloading requests-2.2.1.tar.gz (421kB): 421kB downloaded\n",
      "  Running setup.py egg_info for package requests\n",
      "    \n",
      "Installing collected packages: requests\n",
      "  Running setup.py install for requests\n",
      "    \n",
      "Successfully installed requests\n",
      "Cleaning up..."
     ]
    },
    {
     "cell_type": "code",
     "collapsed": false,
     "input": [
      "import requests\n",
      "\n",
      "r = requests.get(\"http://coworking.do\")\n",
      "print r.status_code #Aca estan todos para los curiosos \n",
      "print \"-\"*30\n",
      "print r.headers\n",
      "print r.headers['content-type']\n",
      "print \"-\"*30\n",
      "print r.text\n",
      "print \"-\"*30"
     ],
     "language": "python",
     "metadata": {},
     "outputs": []
    },
    {
     "cell_type": "markdown",
     "metadata": {},
     "source": [
      "Los error code son por grupos:\n",
      "\n",
      "    Informational 1xx\n",
      "        100 - continue\n",
      "    Successful 2xx\n",
      "        200 - ok\n",
      "        201 - Created\n",
      "        206 - Partial Content\n",
      "    Redirection 3xx\n",
      "        301 Moved Permanently\n",
      "        302 Found (aka redirect)\n",
      "        304 Not Modified\n",
      "    Client Error 4xx\n",
      "        401 Unauthorized\n",
      "        403 Forbidden\n",
      "        404 Not Found\n",
      "    Server Error 5xx\n",
      "        500 Internal Server Error\n",
      "        501 Not Implemented\n",
      "        502 Bad Gateway\n",
      "        503 Service Unavailable\n",
      "        504 Gateway Timeout\n",
      "    \n",
      "Mas Info (aca)[http://en.wikipedia.org/wiki/List_of_HTTP_status_codes] y (aca[http://www.w3.org/Protocols/rfc2616/rfc2616-sec10.html])"
     ]
    },
    {
     "cell_type": "code",
     "collapsed": false,
     "input": [
      "def get_http_info(r):\n",
      "    template = u\"\"\"\n",
      "Status Code:{}\n",
      "content-type:{}\n",
      "headers:{}\n",
      "Sample:{}\n",
      "\"\"\"\n",
      "    return template.format(\n",
      "          r.status_code,\n",
      "          r.headers['content-type'],\n",
      "          r.headers.keys(),\n",
      "          r.text[:500])\n"
     ],
     "language": "python",
     "metadata": {},
     "outputs": [],
     "prompt_number": 80
    },
    {
     "cell_type": "code",
     "collapsed": false,
     "input": [
      "print get_http_info(r)"
     ],
     "language": "python",
     "metadata": {},
     "outputs": []
    },
    {
     "cell_type": "code",
     "collapsed": false,
     "input": [
      "print get_http_info(requests.get(\"http://google.com\"))"
     ],
     "language": "python",
     "metadata": {},
     "outputs": []
    },
    {
     "cell_type": "code",
     "collapsed": false,
     "input": [
      "print get_http_info(requests.get(\"https://github.com/elpargo/py036intro.git\"))"
     ],
     "language": "python",
     "metadata": {},
     "outputs": []
    },
    {
     "cell_type": "code",
     "collapsed": false,
     "input": [
      "print get_http_info(requests.get(\"http://www.pyladies.com/assets/images/pyladies_logo.png\"))"
     ],
     "language": "python",
     "metadata": {},
     "outputs": []
    },
    {
     "cell_type": "markdown",
     "metadata": {},
     "source": [
      "Esta libreria es genial se pueden hacer muchisimas cosas super interesantes con ella para mas info revisen por aca http://docs.python-requests.org/"
     ]
    },
    {
     "cell_type": "code",
     "collapsed": false,
     "input": [],
     "language": "python",
     "metadata": {},
     "outputs": []
    }
   ],
   "metadata": {}
  }
 ]
}