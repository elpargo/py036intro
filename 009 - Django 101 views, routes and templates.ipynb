{
 "metadata": {
  "name": ""
 },
 "nbformat": 3,
 "nbformat_minor": 0,
 "worksheets": [
  {
   "cells": [
    {
     "cell_type": "markdown",
     "metadata": {},
     "source": [
      "#Django 101\n",
      "\n",
      "So tenemos:\n",
      "\n",
      " * `urls.py` que define los path's de nuestro app.\n",
      " * `view.py` que defini las funciones que toma como parametro un `request` y retornan un *response*\n",
      " * y luego templates como `environ.html` que estan escritos en un lenguaje que es una mezcla de python y html. \n",
      " * Lo cual nos genera un webapp bien sencillo"
     ]
    },
    {
     "cell_type": "code",
     "collapsed": false,
     "input": [
      "%load simple_polls/simple_polls/urls.py"
     ],
     "language": "python",
     "metadata": {},
     "outputs": []
    },
    {
     "cell_type": "code",
     "collapsed": false,
     "input": [
      "%load simple_polls/simple_polls/views.py"
     ],
     "language": "python",
     "metadata": {},
     "outputs": []
    },
    {
     "cell_type": "code",
     "collapsed": false,
     "input": [
      "%load simple_polls/simple_polls/templates/environ.html"
     ],
     "language": "python",
     "metadata": {},
     "outputs": []
    },
    {
     "cell_type": "heading",
     "level": 3,
     "metadata": {},
     "source": [
      "Nuestros URLs"
     ]
    },
    {
     "cell_type": "code",
     "collapsed": false,
     "input": [
      "from IPython.display import HTML\n",
      "HTML(\"http://127.0.0.1:8000/environ_with_template\")"
     ],
     "language": "python",
     "metadata": {},
     "outputs": []
    },
    {
     "cell_type": "code",
     "collapsed": false,
     "input": [],
     "language": "python",
     "metadata": {},
     "outputs": []
    }
   ],
   "metadata": {}
  }
 ]
}