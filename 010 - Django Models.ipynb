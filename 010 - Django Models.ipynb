{
 "metadata": {
  "name": ""
 },
 "nbformat": 3,
 "nbformat_minor": 0,
 "worksheets": [
  {
   "cells": [
    {
     "cell_type": "markdown",
     "metadata": {},
     "source": [
      "# Models aka guardar data.\n",
      "\n",
      "Vamos a hacer un peque\u00f1o questionario sobre esta charla.\n",
      "\n",
      "## Primero \n",
      "\n",
      "es definir que se quiere guardar. Queremos objectos del tipo `Survey`\n",
      "\n",
      " * nombre\n",
      " * email\n",
      " * Que te parecio la charla?\n",
      " * Que otros temas te gustarian en Python Dominicana?\n",
      " * Quieres ser miembro de PyLadies?\n",
      " * Te interesa que te escribamos sobre otros eventos en coworking.do?\n",
      "\n",
      "## Segundo\n",
      "\n",
      "Definir el tipo de dato a almacenar. Django posee muchos [datos nativos del framework](https://docs.djangoproject.com/en/dev/ref/models/fields/) y por supuesto hay otros escritos por terceros. Pero vamos a quedarnos con los basicos.\n",
      "\n",
      " * fullname: CharField(20)\n",
      " * email: EmailField\n",
      " * rating: CharField with Field.choices set\n",
      " * other_python_interests: CharField(500)\n",
      " * pyladies_interest: BooleanField\n",
      " * pcoworking_interest: BooleanField\n",
      " \n",
      " ## Tercero\n",
      " \n",
      "lets code!"
     ]
    },
    {
     "cell_type": "code",
     "collapsed": false,
     "input": [
      "#!python manage.py syncdb"
     ],
     "language": "python",
     "metadata": {},
     "outputs": [],
     "prompt_number": 1
    },
    {
     "cell_type": "code",
     "collapsed": false,
     "input": [
      "%load simple_polls/simple_polls/models.py"
     ],
     "language": "python",
     "metadata": {},
     "outputs": [],
     "prompt_number": 2
    }
   ],
   "metadata": {}
  }
 ]
}