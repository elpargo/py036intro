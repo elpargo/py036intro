{
 "metadata": {
  "name": ""
 },
 "nbformat": 3,
 "nbformat_minor": 0,
 "worksheets": [
  {
   "cells": [
    {
     "cell_type": "markdown",
     "metadata": {},
     "source": [
      "# Django Admin\n",
      "\n",
      "El admin de django es un mundo aparte. Solo [miren(https://docs.djangoproject.com/en/dev/ref/contrib/admin/)] lo grande que es su documentacion. Sin embargo me gustaria que vieramos unas cuantas cositas para que vean uno de los mejores features de Django."
     ]
    },
    {
     "cell_type": "code",
     "collapsed": false,
     "input": [
      "%load simple_polls/simple_polls/admin.py"
     ],
     "language": "python",
     "metadata": {},
     "outputs": [],
     "prompt_number": 3
    },
    {
     "cell_type": "code",
     "collapsed": false,
     "input": [
      "from django.contrib import admin\n",
      "from simple_polls.models import Survey\n",
      "\n",
      "#admin.site.register(Survey)\n",
      "\n",
      "class SurveyAdmin(admin.ModelAdmin):\n",
      "    list_display = ('fullname', 'email','rating','other_python_interests','pyladies_interest','coworking_interest','satisfied_with_the_talk')\n",
      "    search_fields = ('fullname', 'email')\n",
      "    #list_filter = ('fullname', 'email','rating','other_python_interests','pyladies_interest','coworking_interest','satisfied_with_the_talk')\n",
      "    list_filter = ('rating','other_python_interests','pyladies_interest','coworking_interest','satisfied_with_the_talk')\n",
      "    readonly_fields = ('email',)\n",
      "\n",
      "admin.site.register(Survey, SurveyAdmin)\n"
     ],
     "language": "python",
     "metadata": {},
     "outputs": []
    },
    {
     "cell_type": "code",
     "collapsed": false,
     "input": [
      "from IPython.display import IFrame\n",
      "IFrame(\"http://127.0.0.1:8000/admin/simple_polls/survey/\",width=700, height=350)"
     ],
     "language": "python",
     "metadata": {},
     "outputs": [
      {
       "ename": "TypeError",
       "evalue": "__init__() takes exactly 4 arguments (2 given)",
       "output_type": "pyerr",
       "traceback": [
        "\u001b[0;31m---------------------------------------------------------------------------\u001b[0m\n\u001b[0;31mTypeError\u001b[0m                                 Traceback (most recent call last)",
        "\u001b[0;32m<ipython-input-4-f7a6d684075a>\u001b[0m in \u001b[0;36m<module>\u001b[0;34m()\u001b[0m\n\u001b[1;32m      1\u001b[0m \u001b[0;32mfrom\u001b[0m \u001b[0mIPython\u001b[0m\u001b[0;34m.\u001b[0m\u001b[0mdisplay\u001b[0m \u001b[0;32mimport\u001b[0m \u001b[0mIFrame\u001b[0m\u001b[0;34m\u001b[0m\u001b[0m\n\u001b[0;32m----> 2\u001b[0;31m \u001b[0mIFrame\u001b[0m\u001b[0;34m(\u001b[0m\u001b[0;34m\"http://127.0.0.1:8000/admin/simple_polls/survey/\"\u001b[0m\u001b[0;34m)\u001b[0m\u001b[0;34m\u001b[0m\u001b[0m\n\u001b[0m",
        "\u001b[0;31mTypeError\u001b[0m: __init__() takes exactly 4 arguments (2 given)"
       ]
      }
     ],
     "prompt_number": 4
    },
    {
     "cell_type": "code",
     "collapsed": false,
     "input": [],
     "language": "python",
     "metadata": {},
     "outputs": []
    }
   ],
   "metadata": {}
  }
 ]
}