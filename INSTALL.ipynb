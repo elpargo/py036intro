{
 "metadata": {
  "name": ""
 },
 "nbformat": 3,
 "nbformat_minor": 0,
 "worksheets": [
  {
   "cells": [
    {
     "cell_type": "markdown",
     "metadata": {},
     "source": [
      "http://docs.python-guide.org/en/latest/\n",
      "\n",
      "python2 or python3 http://docs.python-guide.org/en/latest/starting/which-python/\n",
      "\n",
      "http://docs.python-guide.org/en/latest/starting/install/osx/\n",
      "http://docs.python-guide.org/en/latest/starting/install/win/\n",
      "http://docs.python-guide.org/en/latest/starting/install/linux/\n"
     ]
    }
   ],
   "metadata": {}
  }
 ]
}