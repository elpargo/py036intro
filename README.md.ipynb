{
 "metadata": {
  "name": ""
 },
 "nbformat": 3,
 "nbformat_minor": 0,
 "worksheets": [
  {
   "cells": [
    {
     "cell_type": "markdown",
     "metadata": {},
     "source": [
      "Esta es una introduccion a python.\n",
      "\n",
      "Partimos del supuesto que no sabes nada y te llevamos a un simple website. "
     ]
    }
   ],
   "metadata": {}
  }
 ]
}